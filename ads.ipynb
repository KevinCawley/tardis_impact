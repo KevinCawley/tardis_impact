{
 "cells": [
  {
   "cell_type": "code",
   "execution_count": 1,
   "metadata": {},
   "outputs": [],
   "source": [
    "import ads\n",
    "import pandas as pd\n",
    "ads.config.token='42guhMWZUbJFFB5XPzhLJ14LScoO240jZvlkzPk3'"
   ]
  },
  {
   "cell_type": "code",
   "execution_count": 2,
   "metadata": {},
   "outputs": [],
   "source": [
    "papers = ads.SearchQuery(q='(((full:\"tardis\" AD (full:\"kerzendorf\" OR (bibstem:\"Natur\" AND full:\"supernova\")))) AND year:2014-)+property:refereed', sort=\"date\",\n",
    "                         fl = ['bibcode','title','first_author','alternate_bibcode'])\n",
    "\n",
    "bibcodes = []\n",
    "titles = []\n",
    "first_authors = []\n",
    "arxiv_codes = []\n",
    "for paper in papers:\n",
    "    bibcodes.append(paper.bibcode)\n",
    "    titles.append(paper.title)\n",
    "    first_authors.append(paper.first_author)\n",
    "    arxiv_codes.append(paper.alternate_bibcode) #"
   ]
  },
  {
   "cell_type": "code",
   "execution_count": 3,
   "metadata": {},
   "outputs": [],
   "source": [
    "def format_arxiv_codes(arxiv_codes):\n",
    "    \"\"\"This takes what is returned by paper.alternate_bibcode and formats it into a searchable arXiv code.\n",
    "    What is default returned is YEAR(4digits)arXiv######## but we need arXiv####:####~\"\"\"\n",
    "    arxiv_codes_no_year = []\n",
    "    for item in arxiv_codes:\n",
    "        try:\n",
    "            if len(item) == 1:\n",
    "                no_year = item[0][4:]\n",
    "                arxiv_codes_no_year.append(no_year)\n",
    "            else:\n",
    "                if item[0].find('arXiv') == -1: #If the find statement cannot find it, it returns -1\n",
    "                    arxiv_codes_no_year.append(item[1][4:])\n",
    "                else:\n",
    "                    arxiv_codes_no_year.append(item[0][4:])\n",
    "        except TypeError: #This is the error you get if you try to do the len(None)\n",
    "            arxiv_codes_no_year.append('no arxiv') \n",
    "            \n",
    "\n",
    "    arxiv_codes_proper_format = []\n",
    "    for initial_item in arxiv_codes_no_year:\n",
    "        if initial_item != \"no arxiv\":\n",
    "            temp_list = []\n",
    "            for item in initial_item:\n",
    "                temp_list.append(item)\n",
    "        \n",
    "            if temp_list[5] != \":\":\n",
    "                temp_list.insert(5,\":\")\n",
    "            if temp_list[10] != \".\":\n",
    "                temp_list.insert(10, \".\")\n",
    "\n",
    "            good_str = \"\"\n",
    "            for item in temp_list:\n",
    "                good_str = good_str + item\n",
    "            arxiv_codes_proper_format.append(good_str)\n",
    "        elif initial_item == \"no arxiv\": \n",
    "            arxiv_codes_proper_format.append(\"no arxiv\")\n",
    "            \n",
    "    return arxiv_codes_proper_format"
   ]
  },
  {
   "cell_type": "code",
   "execution_count": 4,
   "metadata": {},
   "outputs": [],
   "source": [
    "d = {'bibcode': bibcodes, 'title': titles, 'first author': first_authors, 'arxiv': format_arxiv_codes(arxiv_codes)}\n",
    "df = pd.DataFrame(data=d)\n",
    "df.to_csv('adslist.csv')"
   ]
  },
  {
   "cell_type": "code",
   "execution_count": 5,
   "metadata": {
    "scrolled": true
   },
   "outputs": [
    {
     "name": "stdout",
     "output_type": "stream",
     "text": [
      "('2020ApJS..250...12C', ['2019arXiv191105209C'])\n",
      "('2020ApJ...898...56M', ['2020arXiv200505972M'])\n",
      "('2020MNRAS.497..246G', ['2020arXiv200712110G'])\n",
      "('2020ApJS..249....8B', None)\n",
      "('2020MNRAS.496.1132T', ['2020arXiv200200393T', '2020MNRAS.tmp.1787T'])\n",
      "('2020MNRAS.494.5811L', ['2019arXiv191204313L', '2020MNRAS.tmp.1131L'])\n",
      "('2020ApJ...893..143K', ['2019arXiv190803001K'])\n",
      "('2020ApJ...892L..24S', ['2020arXiv200109722S'])\n",
      "('2020A&A...634A..37M', ['2019arXiv191207603M'])\n",
      "('2020A&A...633A..88V', ['2019arXiv191104444V'])\n",
      "('2019ApJ...885L..23M', ['2019arXiv190904545M'])\n",
      "('2019Natur.574..497W', ['2019arXiv191010510W'])\n",
      "('2019MNRAS.487.2538J', ['2018arXiv181211692J', '2019MNRAS.tmp.1251J'])\n",
      "('2019LRCA....5....1N', ['2019arXiv190709840N'])\n",
      "('2019ApJ...876..148C', ['2017arXiv171210091C'])\n",
      "('2019MNRAS.484.4785M', ['2019MNRAS.tmp..239M', '2019arXiv190108582M'])\n",
      "('2019A&A...622A.102M', ['2018arXiv181208695M'])\n",
      "('2019ApJ...871..250H', ['2019arXiv190201904H'])\n",
      "('2019Natur.565..324I', ['2019arXiv190105500I'])\n",
      "('2019A&A...621A..29V', ['2018arXiv181102543V'])\n",
      "('2018A&A...620A.156E', ['2018arXiv181007165E'])\n",
      "('2018MNRAS.480.3609B', ['2018arXiv180800448B'])\n",
      "('2018ApJ...865L...3P', ['2018arXiv180705965P'])\n",
      "('2018MNRAS.477.3425B', ['2018MNRAS.tmp..810B', '2017arXiv170510340B'])\n",
      "('2018A&A...614A.115M', ['2018arXiv180304436M'])\n",
      "('2018SSRv..214...72R', ['2018arXiv180507268R'])\n",
      "('2017MNRAS.471.4865B', ['2017arXiv170707848B'])\n",
      "('2017Natur.551...75S', ['2017arXiv171005841S'])\n",
      "('2017ApJ...846...15H', None)\n",
      "('2017A&A...601A..62M', ['2017arXiv170105459M', '2016A&A...601A..62M'])\n",
      "('2017A&A...599A..46B', ['2016arXiv161105938B'])\n",
      "('2016MNRAS.463.2972N', ['2016MNRAS.tmp.1308N', '2016arXiv160900241N'])\n",
      "('2016ApJ...831...79I', ['2016arXiv160702353I'])\n",
      "('2016MNRAS.460.1500S', ['2016MNRAS.tmp..801S', '2016arXiv160408046S'])\n",
      "('2016A&A...589A..89M', ['2016arXiv160304728M'])\n",
      "('2016JPhB...49g4003D', None)\n",
      "('2016MNRAS.457.3702P', ['2016arXiv160303868P', '2016MNRAS.tmp...30P'])\n",
      "('2016JPhB...49g4009Y', ['2015arXiv151205620Y'])\n",
      "('2015MNRAS.453.3120N', ['2015arXiv150803644N'])\n",
      "('2015MNRAS.450.3331M', ['2015arXiv150405590M'])\n",
      "('2014MNRAS.440..387K', ['2014arXiv1401.5469K', '2014MNRAS.tmp..453K'])\n"
     ]
    }
   ],
   "source": [
    "\n",
    "combo_list = zip(bibcodes, arxiv_codes)\n",
    "for item in combo_list:\n",
    "    print(item) "
   ]
  },
  {
   "cell_type": "markdown",
   "metadata": {},
   "source": [
    "The .alternate_bibcode statement adds the year, and it removes the formatting of the arXiv code. For search on the website, the input needs to be arXiv:####.stuff after. The function format_arxiv_codes creates the proper format for the codes to be used in search."
   ]
  },
  {
   "cell_type": "code",
   "execution_count": 6,
   "metadata": {},
   "outputs": [
    {
     "name": "stdout",
     "output_type": "stream",
     "text": [
      "(['2019arXiv191105209C'], 'arXiv:1911.05209C')\n",
      "(['2020arXiv200505972M'], 'arXiv:2005.05972M')\n",
      "(['2020arXiv200712110G'], 'arXiv:2007.12110G')\n",
      "(None, 'no arxiv')\n",
      "(['2020arXiv200200393T', '2020MNRAS.tmp.1787T'], 'arXiv:2002.00393T')\n",
      "(['2019arXiv191204313L', '2020MNRAS.tmp.1131L'], 'arXiv:1912.04313L')\n",
      "(['2019arXiv190803001K'], 'arXiv:1908.03001K')\n",
      "(['2020arXiv200109722S'], 'arXiv:2001.09722S')\n",
      "(['2019arXiv191207603M'], 'arXiv:1912.07603M')\n",
      "(['2019arXiv191104444V'], 'arXiv:1911.04444V')\n",
      "(['2019arXiv190904545M'], 'arXiv:1909.04545M')\n",
      "(['2019arXiv191010510W'], 'arXiv:1910.10510W')\n",
      "(['2018arXiv181211692J', '2019MNRAS.tmp.1251J'], 'arXiv:1812.11692J')\n",
      "(['2019arXiv190709840N'], 'arXiv:1907.09840N')\n",
      "(['2017arXiv171210091C'], 'arXiv:1712.10091C')\n",
      "(['2019MNRAS.tmp..239M', '2019arXiv190108582M'], 'arXiv:1901.08582M')\n",
      "(['2018arXiv181208695M'], 'arXiv:1812.08695M')\n",
      "(['2019arXiv190201904H'], 'arXiv:1902.01904H')\n",
      "(['2019arXiv190105500I'], 'arXiv:1901.05500I')\n",
      "(['2018arXiv181102543V'], 'arXiv:1811.02543V')\n",
      "(['2018arXiv181007165E'], 'arXiv:1810.07165E')\n",
      "(['2018arXiv180800448B'], 'arXiv:1808.00448B')\n",
      "(['2018arXiv180705965P'], 'arXiv:1807.05965P')\n",
      "(['2018MNRAS.tmp..810B', '2017arXiv170510340B'], 'arXiv:1705.10340B')\n",
      "(['2018arXiv180304436M'], 'arXiv:1803.04436M')\n",
      "(['2018arXiv180507268R'], 'arXiv:1805.07268R')\n",
      "(['2017arXiv170707848B'], 'arXiv:1707.07848B')\n",
      "(['2017arXiv171005841S'], 'arXiv:1710.05841S')\n",
      "(None, 'no arxiv')\n",
      "(['2017arXiv170105459M', '2016A&A...601A..62M'], 'arXiv:1701.05459M')\n",
      "(['2016arXiv161105938B'], 'arXiv:1611.05938B')\n",
      "(['2016MNRAS.tmp.1308N', '2016arXiv160900241N'], 'arXiv:1609.00241N')\n",
      "(['2016arXiv160702353I'], 'arXiv:1607.02353I')\n",
      "(['2016MNRAS.tmp..801S', '2016arXiv160408046S'], 'arXiv:1604.08046S')\n",
      "(['2016arXiv160304728M'], 'arXiv:1603.04728M')\n",
      "(None, 'no arxiv')\n",
      "(['2016arXiv160303868P', '2016MNRAS.tmp...30P'], 'arXiv:1603.03868P')\n",
      "(['2015arXiv151205620Y'], 'arXiv:1512.05620Y')\n",
      "(['2015arXiv150803644N'], 'arXiv:1508.03644N')\n",
      "(['2015arXiv150405590M'], 'arXiv:1504.05590M')\n",
      "(['2014arXiv1401.5469K', '2014MNRAS.tmp..453K'], 'arXiv:1401.5469K')\n"
     ]
    }
   ],
   "source": [
    "comparison = zip(arxiv_codes, format_arxiv_codes(arxiv_codes))\n",
    "for item in comparison:\n",
    "    print(item)"
   ]
  },
  {
   "cell_type": "code",
   "execution_count": null,
   "metadata": {},
   "outputs": [],
   "source": []
  }
 ],
 "metadata": {
  "kernelspec": {
   "display_name": "Python 3",
   "language": "python",
   "name": "python3"
  },
  "language_info": {
   "codemirror_mode": {
    "name": "ipython",
    "version": 3
   },
   "file_extension": ".py",
   "mimetype": "text/x-python",
   "name": "python",
   "nbconvert_exporter": "python",
   "pygments_lexer": "ipython3",
   "version": "3.7.8"
  }
 },
 "nbformat": 4,
 "nbformat_minor": 4
}
