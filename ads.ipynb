{
 "cells": [
  {
   "cell_type": "code",
   "execution_count": 19,
   "metadata": {},
   "outputs": [],
   "source": [
    "import ads\n",
    "import pandas as pd\n",
    "ads.config.token='42guhMWZUbJFFB5XPzhLJ14LScoO240jZvlkzPk3'"
   ]
  },
  {
   "cell_type": "code",
   "execution_count": 24,
   "metadata": {},
   "outputs": [],
   "source": [
    "papers = ads.SearchQuery(q='(((full:\"tardis\" AND (full:\"kerzendorf\" OR (bibstem:\"Natur\" AND full:\"supernova\")))) AND year:2014-)+property:refereed', sort=\"date\")\n",
    "\n",
    "bibcodes = []\n",
    "titles = []\n",
    "first_authors = []\n",
    "\n",
    "for paper in papers:\n",
    "    bibcodes.append(paper.bibcode)\n",
    "    titles.append(paper.title)\n",
    "    first_authors.append(paper.first_author)"
   ]
  },
  {
   "cell_type": "code",
   "execution_count": 25,
   "metadata": {},
   "outputs": [],
   "source": [
    "d = {'bibcode': bibcodes, 'title': titles, 'first author': first_authors}\n",
    "df = pd.DataFrame(data=d)\n",
    "df.to_csv('adslist.csv')"
   ]
  },
  {
   "cell_type": "code",
   "execution_count": null,
   "metadata": {},
   "outputs": [],
   "source": []
  }
 ],
 "metadata": {
  "kernelspec": {
   "display_name": "Python 3",
   "language": "python",
   "name": "python3"
  },
  "language_info": {
   "codemirror_mode": {
    "name": "ipython",
    "version": 3
   },
   "file_extension": ".py",
   "mimetype": "text/x-python",
   "name": "python",
   "nbconvert_exporter": "python",
   "pygments_lexer": "ipython3",
   "version": "3.7.8"
  }
 },
 "nbformat": 4,
 "nbformat_minor": 4
}
